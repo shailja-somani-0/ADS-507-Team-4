{
 "cells": [
  {
   "cell_type": "markdown",
   "metadata": {
    "id": "R4bcj1dNhA-e"
   },
   "source": [
    "# Daily Weather and Alerts for San Diego, Along with Historical Comparisons\n",
    "ADS 507 Team 4\\\n",
    "Spring 2024\\\n",
    "Shailja Somani, John Vincent Deniega, & Tara Dehdari"
   ]
  },
  {
   "cell_type": "markdown",
   "metadata": {
    "id": "BBMfbOygijE-"
   },
   "source": [
    "## Notebook Setup"
   ]
  },
  {
   "cell_type": "code",
   "execution_count": 1,
   "metadata": {
    "colab": {
     "base_uri": "https://localhost:8080/"
    },
    "id": "bTIcxx2XibHT",
    "outputId": "70c29d5d-c56d-4de4-b888-d28828acdbdb"
   },
   "outputs": [
    {
     "name": "stdout",
     "output_type": "stream",
     "text": [
      "Requirement already satisfied: nwsapy in /Users/shailjasomani/opt/anaconda3/lib/python3.9/site-packages (1.0.3)\n",
      "Requirement already satisfied: numpy>=1.20.3 in /Users/shailjasomani/opt/anaconda3/lib/python3.9/site-packages (from nwsapy) (1.23.5)\n",
      "Requirement already satisfied: requests>=2.25.1 in /Users/shailjasomani/opt/anaconda3/lib/python3.9/site-packages (from nwsapy) (2.28.1)\n",
      "Requirement already satisfied: shapely>=1.7.1 in /Users/shailjasomani/opt/anaconda3/lib/python3.9/site-packages (from nwsapy) (2.0.2)\n",
      "Requirement already satisfied: pint>=0.17 in /Users/shailjasomani/opt/anaconda3/lib/python3.9/site-packages (from nwsapy) (0.23)\n",
      "Requirement already satisfied: pandas>=1.2.4 in /Users/shailjasomani/opt/anaconda3/lib/python3.9/site-packages (from nwsapy) (1.4.4)\n",
      "Requirement already satisfied: python-dateutil>=2.8.1 in /Users/shailjasomani/opt/anaconda3/lib/python3.9/site-packages (from pandas>=1.2.4->nwsapy) (2.8.2)\n",
      "Requirement already satisfied: pytz>=2020.1 in /Users/shailjasomani/opt/anaconda3/lib/python3.9/site-packages (from pandas>=1.2.4->nwsapy) (2022.1)\n",
      "Requirement already satisfied: typing-extensions in /Users/shailjasomani/opt/anaconda3/lib/python3.9/site-packages (from pint>=0.17->nwsapy) (4.3.0)\n",
      "Requirement already satisfied: certifi>=2017.4.17 in /Users/shailjasomani/opt/anaconda3/lib/python3.9/site-packages (from requests>=2.25.1->nwsapy) (2023.7.22)\n",
      "Requirement already satisfied: urllib3<1.27,>=1.21.1 in /Users/shailjasomani/opt/anaconda3/lib/python3.9/site-packages (from requests>=2.25.1->nwsapy) (1.26.11)\n",
      "Requirement already satisfied: charset-normalizer<3,>=2 in /Users/shailjasomani/opt/anaconda3/lib/python3.9/site-packages (from requests>=2.25.1->nwsapy) (2.0.4)\n",
      "Requirement already satisfied: idna<4,>=2.5 in /Users/shailjasomani/opt/anaconda3/lib/python3.9/site-packages (from requests>=2.25.1->nwsapy) (3.3)\n",
      "Requirement already satisfied: six>=1.5 in /Users/shailjasomani/opt/anaconda3/lib/python3.9/site-packages (from python-dateutil>=2.8.1->pandas>=1.2.4->nwsapy) (1.16.0)\n",
      "Note: you may need to restart the kernel to use updated packages.\n"
     ]
    }
   ],
   "source": [
    "pip install nwsapy"
   ]
  },
  {
   "cell_type": "code",
   "execution_count": 1,
   "metadata": {
    "id": "oD4SVcnFhA-i"
   },
   "outputs": [],
   "source": [
    "# Package imports\n",
    "import pandas as pd\n",
    "import numpy as np\n",
    "import matplotlib.pyplot as plt\n",
    "import os\n",
    "import csv\n",
    "from datetime import datetime, timedelta\n",
    "from nwsapy import api_connector # For NWS API\n",
    "import requests # For OpenWeather API"
   ]
  },
  {
   "cell_type": "code",
   "execution_count": 2,
   "metadata": {},
   "outputs": [],
   "source": [
    "# Hide warnings for cleanliness\n",
    "import warnings\n",
    "warnings.filterwarnings('ignore')"
   ]
  },
  {
   "cell_type": "markdown",
   "metadata": {},
   "source": [
    "## Connect into MySQL & Define database"
   ]
  },
  {
   "cell_type": "code",
   "execution_count": 4,
   "metadata": {},
   "outputs": [],
   "source": [
    "# Set up connection into SQL & SAKILA\n",
    "import pymysql\n",
    "userName = 'jdeniega'\n",
    "userPass = 'shailja_T@ra!' # insert your password here\n",
    "conn = pymysql.connect(host='sakila-jdd.mysql.database.azure.com', port=int(3306), user=userName, \n",
    "                       passwd=userPass)\n",
    "cursor = conn.cursor()"
   ]
  },
  {
   "cell_type": "code",
   "execution_count": null,
   "metadata": {},
   "outputs": [],
   "source": [
    "# Create weather database in MySQL to store data from all 3 data sources that will be loaded in \n",
    "cursor.execute(\"CREATE DATABASE IF NOT EXISTS Weather_Database\")"
   ]
  },
  {
   "cell_type": "code",
   "execution_count": 6,
   "metadata": {},
   "outputs": [],
   "source": [
    "# Select database to use\n",
    "conn.select_db('Weather_Database')"
   ]
  },
  {
   "cell_type": "code",
   "execution_count": 40,
   "metadata": {},
   "outputs": [
    {
     "data": {
      "text/plain": [
       "0"
      ]
     },
     "execution_count": 40,
     "metadata": {},
     "output_type": "execute_result"
    }
   ],
   "source": [
    "# Create tables with primary key of day & month that doubles as join key across all 3 tables\n",
    "# Create daily weather conditions table\n",
    "create_table_daily_weather = \"\"\"\n",
    "    CREATE TABLE IF NOT EXISTS DailyWeatherConditions (\n",
    "        day INT NOT NULL,\n",
    "        month INT NOT NULL,\n",
    "        year INT NOT NULL,\n",
    "        sunrise TIME,\n",
    "        sunset TIME,\n",
    "        humidity INT,\n",
    "        uvi FLOAT,\n",
    "        wind_speed FLOAT,\n",
    "        temp FLOAT,\n",
    "        PRIMARY KEY(day, month, year)\n",
    "    )\"\"\"\n",
    "\n",
    "create_table_daily_alerts = \"\"\"\n",
    "    CREATE TABLE IF NOT EXISTS DailyWeatherAlerts (\n",
    "        day INT NOT NULL,\n",
    "        month INT NOT NULL,\n",
    "        year INT NOT NULL,\n",
    "        affected_zones VARCHAR(150),\n",
    "        areaDesc VARCHAR(150),\n",
    "        description TEXT,\n",
    "        effective_utc DATETIME,\n",
    "        ends_utc DATETIME, \n",
    "        headline VARCHAR(100), \n",
    "        severity VARCHAR(20), \n",
    "        PRIMARY KEY(day, month, year)\n",
    "    )\"\"\"\n",
    "    \n",
    "create_table_historical = \"\"\"\n",
    "    CREATE TABLE IF NOT EXISTS HistoricalWeatherData (\n",
    "        day INT NOT NULL,\n",
    "        month INT NOT NULL,\n",
    "        year INT NOT NULL,\n",
    "        min_temp_C DOUBLE,\n",
    "        max_temp_C DOUBLE,\n",
    "        avg_temp_C DOUBLE,\n",
    "        precipitation DOUBLE,\n",
    "        avg_wind_speed DOUBLE,\n",
    "        PRIMARY KEY(day, month, year)\n",
    "    )\n",
    "    \"\"\"\n",
    "cursor.execute(create_table_daily_weather)\n",
    "cursor.execute(create_table_daily_alerts)\n",
    "cursor.execute(create_table_historical)"
   ]
  },
  {
   "cell_type": "code",
   "execution_count": 41,
   "metadata": {},
   "outputs": [
    {
     "name": "stdout",
     "output_type": "stream",
     "text": [
      "  Tables_in_weather_database\n",
      "0         DailyWeatherAlerts\n",
      "1     DailyWeatherConditions\n",
      "2      HistoricalWeatherData\n"
     ]
    }
   ],
   "source": [
    "# Check everything created fine\n",
    "print(pd.read_sql_query(\"\"\"SHOW TABLES\"\"\", conn))"
   ]
  },
  {
   "cell_type": "markdown",
   "metadata": {
    "id": "aPlYrYrghEh5"
   },
   "source": [
    "## San Diego Weather Historical Daily Averages Dataset Analysis"
   ]
  },
  {
   "cell_type": "markdown",
   "metadata": {
    "id": "dfMgfwiWhA-h"
   },
   "source": [
    "### Exploratory Data Analysis/Preprocessing"
   ]
  },
  {
   "cell_type": "code",
   "execution_count": 46,
   "metadata": {
    "id": "3ESIAZO7hA-j",
    "outputId": "aac13016-d811-4eeb-da0a-d2ea4dc7097a"
   },
   "outputs": [
    {
     "data": {
      "text/html": [
       "<div>\n",
       "<style scoped>\n",
       "    .dataframe tbody tr th:only-of-type {\n",
       "        vertical-align: middle;\n",
       "    }\n",
       "\n",
       "    .dataframe tbody tr th {\n",
       "        vertical-align: top;\n",
       "    }\n",
       "\n",
       "    .dataframe thead th {\n",
       "        text-align: right;\n",
       "    }\n",
       "</style>\n",
       "<table border=\"1\" class=\"dataframe\">\n",
       "  <thead>\n",
       "    <tr style=\"text-align: right;\">\n",
       "      <th></th>\n",
       "      <th>Date</th>\n",
       "      <th>Min Temp (C)</th>\n",
       "      <th>Min Temp M Flag</th>\n",
       "      <th>Min Temp Q Flag</th>\n",
       "      <th>Min Temp S Flag</th>\n",
       "      <th>Max Temp (C)</th>\n",
       "      <th>Max Temp M Flag</th>\n",
       "      <th>Max Temp Q Flag</th>\n",
       "      <th>Max Temp S Flag</th>\n",
       "      <th>Avg Temp (C)</th>\n",
       "      <th>Precipitation (mm)</th>\n",
       "      <th>Precipitation M Flag</th>\n",
       "      <th>Precipitation Q Flag</th>\n",
       "      <th>Precipitation S Flag</th>\n",
       "      <th>Average Wind Speed (m/s)</th>\n",
       "      <th>Average Wind Speed M Flag</th>\n",
       "      <th>Average Wind Speed Q Flag</th>\n",
       "      <th>Average Wind Speed S Flag</th>\n",
       "    </tr>\n",
       "  </thead>\n",
       "  <tbody>\n",
       "    <tr>\n",
       "      <th>0</th>\n",
       "      <td>1939-07-01</td>\n",
       "      <td>17.2</td>\n",
       "      <td>NaN</td>\n",
       "      <td>NaN</td>\n",
       "      <td>0</td>\n",
       "      <td>24.4</td>\n",
       "      <td>NaN</td>\n",
       "      <td>NaN</td>\n",
       "      <td>0</td>\n",
       "      <td>20.80</td>\n",
       "      <td>NaN</td>\n",
       "      <td>NaN</td>\n",
       "      <td>NaN</td>\n",
       "      <td>0</td>\n",
       "      <td>NaN</td>\n",
       "      <td>NaN</td>\n",
       "      <td>NaN</td>\n",
       "      <td>NaN</td>\n",
       "    </tr>\n",
       "    <tr>\n",
       "      <th>1</th>\n",
       "      <td>1939-07-02</td>\n",
       "      <td>18.3</td>\n",
       "      <td>NaN</td>\n",
       "      <td>NaN</td>\n",
       "      <td>0</td>\n",
       "      <td>23.3</td>\n",
       "      <td>NaN</td>\n",
       "      <td>NaN</td>\n",
       "      <td>0</td>\n",
       "      <td>20.80</td>\n",
       "      <td>NaN</td>\n",
       "      <td>NaN</td>\n",
       "      <td>NaN</td>\n",
       "      <td>0</td>\n",
       "      <td>NaN</td>\n",
       "      <td>NaN</td>\n",
       "      <td>NaN</td>\n",
       "      <td>NaN</td>\n",
       "    </tr>\n",
       "    <tr>\n",
       "      <th>2</th>\n",
       "      <td>1939-07-03</td>\n",
       "      <td>16.7</td>\n",
       "      <td>NaN</td>\n",
       "      <td>NaN</td>\n",
       "      <td>0</td>\n",
       "      <td>21.7</td>\n",
       "      <td>NaN</td>\n",
       "      <td>NaN</td>\n",
       "      <td>0</td>\n",
       "      <td>19.20</td>\n",
       "      <td>NaN</td>\n",
       "      <td>NaN</td>\n",
       "      <td>NaN</td>\n",
       "      <td>0</td>\n",
       "      <td>NaN</td>\n",
       "      <td>NaN</td>\n",
       "      <td>NaN</td>\n",
       "      <td>NaN</td>\n",
       "    </tr>\n",
       "    <tr>\n",
       "      <th>3</th>\n",
       "      <td>1939-07-04</td>\n",
       "      <td>17.2</td>\n",
       "      <td>NaN</td>\n",
       "      <td>NaN</td>\n",
       "      <td>0</td>\n",
       "      <td>21.7</td>\n",
       "      <td>NaN</td>\n",
       "      <td>NaN</td>\n",
       "      <td>0</td>\n",
       "      <td>19.45</td>\n",
       "      <td>NaN</td>\n",
       "      <td>NaN</td>\n",
       "      <td>NaN</td>\n",
       "      <td>0</td>\n",
       "      <td>NaN</td>\n",
       "      <td>NaN</td>\n",
       "      <td>NaN</td>\n",
       "      <td>NaN</td>\n",
       "    </tr>\n",
       "    <tr>\n",
       "      <th>4</th>\n",
       "      <td>1939-07-05</td>\n",
       "      <td>17.8</td>\n",
       "      <td>NaN</td>\n",
       "      <td>NaN</td>\n",
       "      <td>0</td>\n",
       "      <td>22.2</td>\n",
       "      <td>NaN</td>\n",
       "      <td>NaN</td>\n",
       "      <td>0</td>\n",
       "      <td>20.00</td>\n",
       "      <td>NaN</td>\n",
       "      <td>NaN</td>\n",
       "      <td>NaN</td>\n",
       "      <td>0</td>\n",
       "      <td>NaN</td>\n",
       "      <td>NaN</td>\n",
       "      <td>NaN</td>\n",
       "      <td>NaN</td>\n",
       "    </tr>\n",
       "  </tbody>\n",
       "</table>\n",
       "</div>"
      ],
      "text/plain": [
       "         Date  Min Temp (C)  Min Temp M Flag  Min Temp Q Flag Min Temp S Flag  \\\n",
       "0  1939-07-01          17.2              NaN              NaN               0   \n",
       "1  1939-07-02          18.3              NaN              NaN               0   \n",
       "2  1939-07-03          16.7              NaN              NaN               0   \n",
       "3  1939-07-04          17.2              NaN              NaN               0   \n",
       "4  1939-07-05          17.8              NaN              NaN               0   \n",
       "\n",
       "   Max Temp (C)  Max Temp M Flag  Max Temp Q Flag Max Temp S Flag  \\\n",
       "0          24.4              NaN              NaN               0   \n",
       "1          23.3              NaN              NaN               0   \n",
       "2          21.7              NaN              NaN               0   \n",
       "3          21.7              NaN              NaN               0   \n",
       "4          22.2              NaN              NaN               0   \n",
       "\n",
       "   Avg Temp (C)  Precipitation (mm) Precipitation M Flag  \\\n",
       "0         20.80                 NaN                  NaN   \n",
       "1         20.80                 NaN                  NaN   \n",
       "2         19.20                 NaN                  NaN   \n",
       "3         19.45                 NaN                  NaN   \n",
       "4         20.00                 NaN                  NaN   \n",
       "\n",
       "   Precipitation Q Flag Precipitation S Flag  Average Wind Speed (m/s)  \\\n",
       "0                   NaN                    0                       NaN   \n",
       "1                   NaN                    0                       NaN   \n",
       "2                   NaN                    0                       NaN   \n",
       "3                   NaN                    0                       NaN   \n",
       "4                   NaN                    0                       NaN   \n",
       "\n",
       "   Average Wind Speed M Flag  Average Wind Speed Q Flag  \\\n",
       "0                        NaN                        NaN   \n",
       "1                        NaN                        NaN   \n",
       "2                        NaN                        NaN   \n",
       "3                        NaN                        NaN   \n",
       "4                        NaN                        NaN   \n",
       "\n",
       "  Average Wind Speed S Flag  \n",
       "0                       NaN  \n",
       "1                       NaN  \n",
       "2                       NaN  \n",
       "3                       NaN  \n",
       "4                       NaN  "
      ]
     },
     "execution_count": 46,
     "metadata": {},
     "output_type": "execute_result"
    }
   ],
   "source": [
    "weatherData = pd.read_csv(\"data.csv\")\n",
    "weatherData.head()"
   ]
  },
  {
   "cell_type": "code",
   "execution_count": 47,
   "metadata": {
    "id": "AFpbuSdmhA-j",
    "outputId": "63280fcb-1599-46c5-bfef-d2bdc1aa3f45"
   },
   "outputs": [
    {
     "data": {
      "text/html": [
       "<div>\n",
       "<style scoped>\n",
       "    .dataframe tbody tr th:only-of-type {\n",
       "        vertical-align: middle;\n",
       "    }\n",
       "\n",
       "    .dataframe tbody tr th {\n",
       "        vertical-align: top;\n",
       "    }\n",
       "\n",
       "    .dataframe thead th {\n",
       "        text-align: right;\n",
       "    }\n",
       "</style>\n",
       "<table border=\"1\" class=\"dataframe\">\n",
       "  <thead>\n",
       "    <tr style=\"text-align: right;\">\n",
       "      <th></th>\n",
       "      <th>Min Temp (C)</th>\n",
       "      <th>Min Temp M Flag</th>\n",
       "      <th>Min Temp Q Flag</th>\n",
       "      <th>Max Temp (C)</th>\n",
       "      <th>Max Temp M Flag</th>\n",
       "      <th>Max Temp Q Flag</th>\n",
       "      <th>Avg Temp (C)</th>\n",
       "      <th>Precipitation (mm)</th>\n",
       "      <th>Precipitation Q Flag</th>\n",
       "      <th>Average Wind Speed (m/s)</th>\n",
       "      <th>Average Wind Speed M Flag</th>\n",
       "      <th>Average Wind Speed Q Flag</th>\n",
       "    </tr>\n",
       "  </thead>\n",
       "  <tbody>\n",
       "    <tr>\n",
       "      <th>count</th>\n",
       "      <td>29343.000000</td>\n",
       "      <td>0.0</td>\n",
       "      <td>0.0</td>\n",
       "      <td>29343.000000</td>\n",
       "      <td>0.0</td>\n",
       "      <td>0.0</td>\n",
       "      <td>29343.000000</td>\n",
       "      <td>3318.000000</td>\n",
       "      <td>0.0</td>\n",
       "      <td>13088.000000</td>\n",
       "      <td>0.0</td>\n",
       "      <td>0.0</td>\n",
       "    </tr>\n",
       "    <tr>\n",
       "      <th>mean</th>\n",
       "      <td>13.821181</td>\n",
       "      <td>NaN</td>\n",
       "      <td>NaN</td>\n",
       "      <td>21.285939</td>\n",
       "      <td>NaN</td>\n",
       "      <td>NaN</td>\n",
       "      <td>17.553560</td>\n",
       "      <td>4.567963</td>\n",
       "      <td>NaN</td>\n",
       "      <td>2.232411</td>\n",
       "      <td>NaN</td>\n",
       "      <td>NaN</td>\n",
       "    </tr>\n",
       "    <tr>\n",
       "      <th>std</th>\n",
       "      <td>15.066915</td>\n",
       "      <td>NaN</td>\n",
       "      <td>NaN</td>\n",
       "      <td>15.085956</td>\n",
       "      <td>NaN</td>\n",
       "      <td>NaN</td>\n",
       "      <td>14.371394</td>\n",
       "      <td>39.992630</td>\n",
       "      <td>NaN</td>\n",
       "      <td>24.804047</td>\n",
       "      <td>NaN</td>\n",
       "      <td>NaN</td>\n",
       "    </tr>\n",
       "    <tr>\n",
       "      <th>min</th>\n",
       "      <td>-999.900000</td>\n",
       "      <td>NaN</td>\n",
       "      <td>NaN</td>\n",
       "      <td>-999.900000</td>\n",
       "      <td>NaN</td>\n",
       "      <td>NaN</td>\n",
       "      <td>-999.900000</td>\n",
       "      <td>-999.900000</td>\n",
       "      <td>NaN</td>\n",
       "      <td>-999.900000</td>\n",
       "      <td>NaN</td>\n",
       "      <td>NaN</td>\n",
       "    </tr>\n",
       "    <tr>\n",
       "      <th>25%</th>\n",
       "      <td>11.100000</td>\n",
       "      <td>NaN</td>\n",
       "      <td>NaN</td>\n",
       "      <td>18.900000</td>\n",
       "      <td>NaN</td>\n",
       "      <td>NaN</td>\n",
       "      <td>15.000000</td>\n",
       "      <td>0.800000</td>\n",
       "      <td>NaN</td>\n",
       "      <td>2.200000</td>\n",
       "      <td>NaN</td>\n",
       "      <td>NaN</td>\n",
       "    </tr>\n",
       "    <tr>\n",
       "      <th>50%</th>\n",
       "      <td>14.400000</td>\n",
       "      <td>NaN</td>\n",
       "      <td>NaN</td>\n",
       "      <td>21.100000</td>\n",
       "      <td>NaN</td>\n",
       "      <td>NaN</td>\n",
       "      <td>17.750000</td>\n",
       "      <td>2.500000</td>\n",
       "      <td>NaN</td>\n",
       "      <td>2.800000</td>\n",
       "      <td>NaN</td>\n",
       "      <td>NaN</td>\n",
       "    </tr>\n",
       "    <tr>\n",
       "      <th>75%</th>\n",
       "      <td>17.200000</td>\n",
       "      <td>NaN</td>\n",
       "      <td>NaN</td>\n",
       "      <td>23.900000</td>\n",
       "      <td>NaN</td>\n",
       "      <td>NaN</td>\n",
       "      <td>20.300000</td>\n",
       "      <td>7.825000</td>\n",
       "      <td>NaN</td>\n",
       "      <td>3.400000</td>\n",
       "      <td>NaN</td>\n",
       "      <td>NaN</td>\n",
       "    </tr>\n",
       "    <tr>\n",
       "      <th>max</th>\n",
       "      <td>25.600000</td>\n",
       "      <td>NaN</td>\n",
       "      <td>NaN</td>\n",
       "      <td>43.900000</td>\n",
       "      <td>NaN</td>\n",
       "      <td>NaN</td>\n",
       "      <td>33.350000</td>\n",
       "      <td>68.600000</td>\n",
       "      <td>NaN</td>\n",
       "      <td>9.900000</td>\n",
       "      <td>NaN</td>\n",
       "      <td>NaN</td>\n",
       "    </tr>\n",
       "  </tbody>\n",
       "</table>\n",
       "</div>"
      ],
      "text/plain": [
       "       Min Temp (C)  Min Temp M Flag  Min Temp Q Flag  Max Temp (C)  \\\n",
       "count  29343.000000              0.0              0.0  29343.000000   \n",
       "mean      13.821181              NaN              NaN     21.285939   \n",
       "std       15.066915              NaN              NaN     15.085956   \n",
       "min     -999.900000              NaN              NaN   -999.900000   \n",
       "25%       11.100000              NaN              NaN     18.900000   \n",
       "50%       14.400000              NaN              NaN     21.100000   \n",
       "75%       17.200000              NaN              NaN     23.900000   \n",
       "max       25.600000              NaN              NaN     43.900000   \n",
       "\n",
       "       Max Temp M Flag  Max Temp Q Flag  Avg Temp (C)  Precipitation (mm)  \\\n",
       "count              0.0              0.0  29343.000000         3318.000000   \n",
       "mean               NaN              NaN     17.553560            4.567963   \n",
       "std                NaN              NaN     14.371394           39.992630   \n",
       "min                NaN              NaN   -999.900000         -999.900000   \n",
       "25%                NaN              NaN     15.000000            0.800000   \n",
       "50%                NaN              NaN     17.750000            2.500000   \n",
       "75%                NaN              NaN     20.300000            7.825000   \n",
       "max                NaN              NaN     33.350000           68.600000   \n",
       "\n",
       "       Precipitation Q Flag  Average Wind Speed (m/s)  \\\n",
       "count                   0.0              13088.000000   \n",
       "mean                    NaN                  2.232411   \n",
       "std                     NaN                 24.804047   \n",
       "min                     NaN               -999.900000   \n",
       "25%                     NaN                  2.200000   \n",
       "50%                     NaN                  2.800000   \n",
       "75%                     NaN                  3.400000   \n",
       "max                     NaN                  9.900000   \n",
       "\n",
       "       Average Wind Speed M Flag  Average Wind Speed Q Flag  \n",
       "count                        0.0                        0.0  \n",
       "mean                         NaN                        NaN  \n",
       "std                          NaN                        NaN  \n",
       "min                          NaN                        NaN  \n",
       "25%                          NaN                        NaN  \n",
       "50%                          NaN                        NaN  \n",
       "75%                          NaN                        NaN  \n",
       "max                          NaN                        NaN  "
      ]
     },
     "execution_count": 47,
     "metadata": {},
     "output_type": "execute_result"
    }
   ],
   "source": [
    "weatherData.describe()"
   ]
  },
  {
   "cell_type": "code",
   "execution_count": 48,
   "metadata": {
    "id": "ikajFghphA-j",
    "outputId": "399fb89f-246b-417a-bec4-6a8908dec5be"
   },
   "outputs": [
    {
     "name": "stdout",
     "output_type": "stream",
     "text": [
      "<class 'pandas.core.frame.DataFrame'>\n",
      "RangeIndex: 29343 entries, 0 to 29342\n",
      "Data columns (total 18 columns):\n",
      " #   Column                     Non-Null Count  Dtype  \n",
      "---  ------                     --------------  -----  \n",
      " 0   Date                       29343 non-null  object \n",
      " 1   Min Temp (C)               29343 non-null  float64\n",
      " 2   Min Temp M Flag            0 non-null      float64\n",
      " 3   Min Temp Q Flag            0 non-null      float64\n",
      " 4   Min Temp S Flag            29337 non-null  object \n",
      " 5   Max Temp (C)               29343 non-null  float64\n",
      " 6   Max Temp M Flag            0 non-null      float64\n",
      " 7   Max Temp Q Flag            0 non-null      float64\n",
      " 8   Max Temp S Flag            29337 non-null  object \n",
      " 9   Avg Temp (C)               29343 non-null  float64\n",
      " 10  Precipitation (mm)         3318 non-null   float64\n",
      " 11  Precipitation M Flag       2259 non-null   object \n",
      " 12  Precipitation Q Flag       0 non-null      float64\n",
      " 13  Precipitation S Flag       29338 non-null  object \n",
      " 14  Average Wind Speed (m/s)   13088 non-null  float64\n",
      " 15  Average Wind Speed M Flag  0 non-null      float64\n",
      " 16  Average Wind Speed Q Flag  0 non-null      float64\n",
      " 17  Average Wind Speed S Flag  13080 non-null  object \n",
      "dtypes: float64(12), object(6)\n",
      "memory usage: 4.0+ MB\n"
     ]
    }
   ],
   "source": [
    "weatherData.info()"
   ]
  },
  {
   "cell_type": "code",
   "execution_count": 49,
   "metadata": {
    "id": "23diEosqhA-k",
    "outputId": "e726a76c-c5d3-4899-bcdf-bb9763430bef"
   },
   "outputs": [
    {
     "data": {
      "text/plain": [
       "(29343, 18)"
      ]
     },
     "execution_count": 49,
     "metadata": {},
     "output_type": "execute_result"
    }
   ],
   "source": [
    "weatherData.shape"
   ]
  },
  {
   "cell_type": "code",
   "execution_count": 50,
   "metadata": {
    "id": "1mDjDuochA-k",
    "outputId": "ab652167-49ba-4cea-d50a-fdf08bd5b10c"
   },
   "outputs": [
    {
     "data": {
      "text/plain": [
       "Date                             0\n",
       "Min Temp (C)                     0\n",
       "Min Temp M Flag              29343\n",
       "Min Temp Q Flag              29343\n",
       "Min Temp S Flag                  6\n",
       "Max Temp (C)                     0\n",
       "Max Temp M Flag              29343\n",
       "Max Temp Q Flag              29343\n",
       "Max Temp S Flag                  6\n",
       "Avg Temp (C)                     0\n",
       "Precipitation (mm)           26025\n",
       "Precipitation M Flag         27084\n",
       "Precipitation Q Flag         29343\n",
       "Precipitation S Flag             5\n",
       "Average Wind Speed (m/s)     16255\n",
       "Average Wind Speed M Flag    29343\n",
       "Average Wind Speed Q Flag    29343\n",
       "Average Wind Speed S Flag    16263\n",
       "dtype: int64"
      ]
     },
     "execution_count": 50,
     "metadata": {},
     "output_type": "execute_result"
    }
   ],
   "source": [
    "# check for missing data\n",
    "weatherData.isnull().sum()"
   ]
  },
  {
   "cell_type": "markdown",
   "metadata": {
    "id": "aEbiuhhwhA-k"
   },
   "source": [
    "The M flag means if we see M for a row it means that the data isn't available or not reliable. The Q flag is a quality assurance test, if blank that means it passed, and the s flag represents the source in which it got the information."
   ]
  },
  {
   "cell_type": "code",
   "execution_count": 51,
   "metadata": {
    "id": "1vU2qUDghA-l",
    "outputId": "b9df18fc-e27f-4080-cff3-e22d850941e6"
   },
   "outputs": [
    {
     "name": "stdout",
     "output_type": "stream",
     "text": [
      "\n",
      "Number of duplicate rows: 0\n"
     ]
    }
   ],
   "source": [
    "# Check for duplicate rows\n",
    "duplicates = weatherData.duplicated()\n",
    "print(\"\\nNumber of duplicate rows:\", duplicates.sum())"
   ]
  },
  {
   "cell_type": "code",
   "execution_count": 52,
   "metadata": {
    "id": "0hx-RV11hA-l"
   },
   "outputs": [],
   "source": [
    "# Convert date column to datetime format\n",
    "weatherData['Date'] = pd.to_datetime(weatherData['Date'])\n"
   ]
  },
  {
   "cell_type": "code",
   "execution_count": 53,
   "metadata": {
    "id": "C2io7O60hA-l"
   },
   "outputs": [],
   "source": [
    "# dropped quality assurance columns that passed and precipitation\n",
    "weatherData_cleaned = weatherData.drop(columns=['Min Temp M Flag', 'Min Temp Q Flag', 'Max Temp M Flag', 'Max Temp Q Flag', 'Average Wind Speed M Flag', 'Average Wind Speed Q Flag', 'Average Wind Speed S Flag', 'Precipitation (mm)', 'Precipitation M Flag', 'Precipitation Q Flag', 'Precipitation S Flag'])\n",
    "# for now these columns were dropped because they were empty meaning that the rows had reliable data and passed the quality assurance test\n",
    "# for percipitation we decided we didn't need it and we are dropping those columns completely\n",
    "# ultimately we will be looking at the min temp, max temp, avg temp, and average wind speed"
   ]
  },
  {
   "cell_type": "markdown",
   "metadata": {
    "id": "HYWnflhuhA-l"
   },
   "source": [
    "### Visualizatons"
   ]
  },
  {
   "cell_type": "code",
   "execution_count": 54,
   "metadata": {
    "id": "--dn8ExChA-m",
    "outputId": "c2c7ea5d-9c2c-48da-f0b3-b73447c8ba7d"
   },
   "outputs": [
    {
     "data": {
      "image/png": "[encoded data removed]",
      "text/plain": [
       "<Figure size 1500x1500 with 4 Axes>"
      ]
     },
     "metadata": {},
     "output_type": "display_data"
    }
   ],
   "source": [
    "col = ['Min Temp (C)', 'Max Temp (C)', 'Avg Temp (C)', 'Average Wind Speed (m/s)']\n",
    "\n",
    "plt.figure(figsize = (15,15))\n",
    "for column in col:\n",
    "    plt.subplot(6,6, list(weatherData_cleaned.columns).index(column) + 1)\n",
    "    plt.boxplot(weatherData_cleaned[column])\n",
    "    plt.title(f'Boxplot of {column}')\n",
    "    plt.xlabel(column)\n",
    "plt.tight_layout()\n",
    "plt.show()"
   ]
  },
  {
   "cell_type": "code",
   "execution_count": 55,
   "metadata": {
    "id": "-oee8lGNhA-m"
   },
   "outputs": [],
   "source": [
    "# taking out outliers\n",
    "weatherData_cleaned = weatherData_cleaned[(weatherData_cleaned['Min Temp (C)'] >= -990) &\n",
    "                                          (weatherData_cleaned['Max Temp (C)'] >= -990) &\n",
    "                                          (weatherData_cleaned['Avg Temp (C)'] >= -990) &\n",
    "                                          (weatherData_cleaned['Average Wind Speed (m/s)'] >= -990)]"
   ]
  },
  {
   "cell_type": "code",
   "execution_count": 56,
   "metadata": {
    "id": "St0BaHZyhA-m",
    "outputId": "a6a892ba-9bbb-4b53-fcf4-0bf1b8579e76"
   },
   "outputs": [
    {
     "data": {
      "image/png": "[encoded data removed]",
      "text/plain": [
       "<Figure size 3000x2500 with 4 Axes>"
      ]
     },
     "metadata": {},
     "output_type": "display_data"
    }
   ],
   "source": [
    "# checking box plots again\n",
    "plt.figure(figsize = (30,25))\n",
    "for column in col:\n",
    "    plt.subplot(5,10, list(weatherData_cleaned.columns).index(column) + 1)\n",
    "    plt.boxplot(weatherData_cleaned[column])\n",
    "    plt.title(f'Boxplot of {column}')\n",
    "    plt.xlabel(column)\n",
    "plt.tight_layout()\n",
    "plt.show()"
   ]
  },
  {
   "cell_type": "markdown",
   "metadata": {
    "id": "STJjfUtahA-n"
   },
   "source": [
    "We can see that after the outlier removals there are not any other significant outliers that need to be adressed"
   ]
  },
  {
   "cell_type": "code",
   "execution_count": 57,
   "metadata": {},
   "outputs": [
    {
     "data": {
      "image/png": "[encoded data removed]",
      "text/plain": [
       "<Figure size 1500x1500 with 4 Axes>"
      ]
     },
     "metadata": {},
     "output_type": "display_data"
    }
   ],
   "source": [
    "plt.figure(figsize=(15, 15))\n",
    "for column in col:\n",
    "    plt.subplot(2, 2, list(col).index(column) + 1)\n",
    "    plt.hist(weatherData_cleaned[column], bins=20, edgecolor='black', color='skyblue')\n",
    "    plt.title(f'Histogram of {column}')\n",
    "    plt.xlabel(column)\n",
    "    plt.ylabel('Frequency')\n",
    "plt.tight_layout()\n",
    "plt.show()"
   ]
  },
  {
   "cell_type": "markdown",
   "metadata": {},
   "source": [
    "Through the histograms we can see the shape of the distributions. The average temperature has a normal distribution. The max temp and average wind speed show a right skewed histogram, except the max temp is only slightly right skewed while the average wind speed is more right skewed. The min temp is also slightly left skewed. "
   ]
  },
  {
   "cell_type": "code",
   "execution_count": 58,
   "metadata": {
    "id": "IoC1G55rhA-n",
    "outputId": "0aa32243-74fa-49c7-f90f-4d9fba126b69"
   },
   "outputs": [
    {
     "data": {
      "text/plain": [
       "Date                        0\n",
       "Min Temp (C)                0\n",
       "Min Temp S Flag             0\n",
       "Max Temp (C)                0\n",
       "Max Temp S Flag             0\n",
       "Avg Temp (C)                0\n",
       "Average Wind Speed (m/s)    0\n",
       "dtype: int64"
      ]
     },
     "execution_count": 58,
     "metadata": {},
     "output_type": "execute_result"
    }
   ],
   "source": [
    "weatherData_cleaned.isnull().sum()"
   ]
  },
  {
   "cell_type": "code",
   "execution_count": 59,
   "metadata": {},
   "outputs": [
    {
     "data": {
      "text/plain": [
       "(13080, 7)"
      ]
     },
     "execution_count": 59,
     "metadata": {},
     "output_type": "execute_result"
    }
   ],
   "source": [
    "weatherData_cleaned.shape"
   ]
  },
  {
   "cell_type": "code",
   "execution_count": 60,
   "metadata": {},
   "outputs": [
    {
     "data": {
      "text/html": [
       "<div>\n",
       "<style scoped>\n",
       "    .dataframe tbody tr th:only-of-type {\n",
       "        vertical-align: middle;\n",
       "    }\n",
       "\n",
       "    .dataframe tbody tr th {\n",
       "        vertical-align: top;\n",
       "    }\n",
       "\n",
       "    .dataframe thead th {\n",
       "        text-align: right;\n",
       "    }\n",
       "</style>\n",
       "<table border=\"1\" class=\"dataframe\">\n",
       "  <thead>\n",
       "    <tr style=\"text-align: right;\">\n",
       "      <th></th>\n",
       "      <th>Min Temp (C)</th>\n",
       "      <th>Max Temp (C)</th>\n",
       "      <th>Avg Temp (C)</th>\n",
       "      <th>Average Wind Speed (m/s)</th>\n",
       "    </tr>\n",
       "  </thead>\n",
       "  <tbody>\n",
       "    <tr>\n",
       "      <th>count</th>\n",
       "      <td>13080.000000</td>\n",
       "      <td>13080.000000</td>\n",
       "      <td>13080.000000</td>\n",
       "      <td>13080.000000</td>\n",
       "    </tr>\n",
       "    <tr>\n",
       "      <th>mean</th>\n",
       "      <td>14.540428</td>\n",
       "      <td>21.370344</td>\n",
       "      <td>17.955386</td>\n",
       "      <td>2.845336</td>\n",
       "    </tr>\n",
       "    <tr>\n",
       "      <th>std</th>\n",
       "      <td>4.019248</td>\n",
       "      <td>3.800279</td>\n",
       "      <td>3.513219</td>\n",
       "      <td>0.980993</td>\n",
       "    </tr>\n",
       "    <tr>\n",
       "      <th>min</th>\n",
       "      <td>1.100000</td>\n",
       "      <td>11.100000</td>\n",
       "      <td>6.400000</td>\n",
       "      <td>0.400000</td>\n",
       "    </tr>\n",
       "    <tr>\n",
       "      <th>25%</th>\n",
       "      <td>11.700000</td>\n",
       "      <td>18.300000</td>\n",
       "      <td>15.300000</td>\n",
       "      <td>2.200000</td>\n",
       "    </tr>\n",
       "    <tr>\n",
       "      <th>50%</th>\n",
       "      <td>15.000000</td>\n",
       "      <td>21.100000</td>\n",
       "      <td>17.800000</td>\n",
       "      <td>2.800000</td>\n",
       "    </tr>\n",
       "    <tr>\n",
       "      <th>75%</th>\n",
       "      <td>17.800000</td>\n",
       "      <td>23.900000</td>\n",
       "      <td>20.550000</td>\n",
       "      <td>3.400000</td>\n",
       "    </tr>\n",
       "    <tr>\n",
       "      <th>max</th>\n",
       "      <td>25.600000</td>\n",
       "      <td>41.700000</td>\n",
       "      <td>30.850000</td>\n",
       "      <td>9.900000</td>\n",
       "    </tr>\n",
       "  </tbody>\n",
       "</table>\n",
       "</div>"
      ],
      "text/plain": [
       "       Min Temp (C)  Max Temp (C)  Avg Temp (C)  Average Wind Speed (m/s)\n",
       "count  13080.000000  13080.000000  13080.000000              13080.000000\n",
       "mean      14.540428     21.370344     17.955386                  2.845336\n",
       "std        4.019248      3.800279      3.513219                  0.980993\n",
       "min        1.100000     11.100000      6.400000                  0.400000\n",
       "25%       11.700000     18.300000     15.300000                  2.200000\n",
       "50%       15.000000     21.100000     17.800000                  2.800000\n",
       "75%       17.800000     23.900000     20.550000                  3.400000\n",
       "max       25.600000     41.700000     30.850000                  9.900000"
      ]
     },
     "execution_count": 60,
     "metadata": {},
     "output_type": "execute_result"
    }
   ],
   "source": [
    "weatherData_cleaned.describe()"
   ]
  },
  {
   "cell_type": "markdown",
   "metadata": {
    "id": "zDtrh7rMhUa4"
   },
   "source": [
    "## OpenWeather API: Daily Temperature Data"
   ]
  },
  {
   "cell_type": "code",
   "execution_count": 28,
   "metadata": {
    "id": "3dI9oV0ChXxw"
   },
   "outputs": [],
   "source": [
    "# Make API call to OpenWeather for San Diego lat & long\n",
    "latitude_SD = 32.715736\n",
    "longitude_SD = -117.161087\n",
    "\n",
    "url = f'https://api.openweathermap.org/data/3.0/onecall?lat={latitude_SD}&lon={longitude_SD}&appid=1024bc200ad2448da47e940dcfe0a5d9'\n",
    "response = requests.get(url)\n",
    "\n",
    "if response.status_code == 200:\n",
    "  data = response.json()\n",
    "else:\n",
    "  print('Error:', response.status_code)"
   ]
  },
  {
   "cell_type": "code",
   "execution_count": 10,
   "metadata": {
    "colab": {
     "base_uri": "https://localhost:8080/"
    },
    "id": "0j8Ubqlvhd7l",
    "outputId": "62c0926b-1297-4487-d557-3bead025fb6e"
   },
   "outputs": [
    {
     "data": {
      "text/plain": [
       "{'dt': 1707854400,\n",
       " 'sunrise': 1707834850,\n",
       " 'sunset': 1707874305,\n",
       " 'moonrise': 1707843660,\n",
       " 'moonset': 1707891000,\n",
       " 'moon_phase': 0.15,\n",
       " 'summary': 'Expect a day of partly cloudy with clear spells',\n",
       " 'temp': {'day': 289.6,\n",
       "  'min': 285.27,\n",
       "  'max': 290.34,\n",
       "  'night': 286.48,\n",
       "  'eve': 288.69,\n",
       "  'morn': 285.28},\n",
       " 'feels_like': {'day': 288.84, 'night': 285.96, 'eve': 288.05, 'morn': 284.32},\n",
       " 'pressure': 1016,\n",
       " 'humidity': 59,\n",
       " 'dew_point': 281.57,\n",
       " 'wind_speed': 3.99,\n",
       " 'wind_deg': 270,\n",
       " 'wind_gust': 3.02,\n",
       " 'weather': [{'id': 801,\n",
       "   'main': 'Clouds',\n",
       "   'description': 'few clouds',\n",
       "   'icon': '02d'}],\n",
       " 'clouds': 17,\n",
       " 'pop': 0,\n",
       " 'uvi': 4.39}"
      ]
     },
     "execution_count": 10,
     "metadata": {},
     "output_type": "execute_result"
    }
   ],
   "source": [
    "# Get only today's averages data\n",
    "data.get('daily')[0]"
   ]
  },
  {
   "cell_type": "code",
   "execution_count": 11,
   "metadata": {
    "colab": {
     "base_uri": "https://localhost:8080/"
    },
    "id": "dAfoAFxMhjRp",
    "outputId": "37f2f04b-6e4b-4264-f4a1-e63a2702993a"
   },
   "outputs": [
    {
     "data": {
      "text/plain": [
       "{'dt': 1707854400,\n",
       " 'sunrise': 1707834850,\n",
       " 'sunset': 1707874305,\n",
       " 'humidity': 59,\n",
       " 'uvi': 4.39,\n",
       " 'wind_speed': 3.99,\n",
       " 'temp': 289.6}"
      ]
     },
     "execution_count": 11,
     "metadata": {},
     "output_type": "execute_result"
    }
   ],
   "source": [
    "# Get data points to put into CSV\n",
    "data_to_append = {k: data.get('daily')[0][k] for k in ['dt', 'sunrise', 'sunset', 'humidity', 'uvi', 'wind_speed']}\n",
    "data_to_append['temp'] = data.get('daily')[0].get('temp').get('day')\n",
    "data_to_append"
   ]
  },
  {
   "cell_type": "code",
   "execution_count": 64,
   "metadata": {
    "id": "ixL_y49ZhoBN"
   },
   "outputs": [],
   "source": [
    "# Def to write to csv (append if exists)\n",
    "def write_to_csv(data):\n",
    "    file_exists = os.path.isfile('weather_data.csv')\n",
    "    with open('weather_data.csv', 'a', newline='') as csvfile:\n",
    "        fieldnames = ['dt', 'sunrise', 'sunset', 'humidity', 'uvi', 'wind_speed', 'temp']\n",
    "        writer = csv.DictWriter(csvfile, fieldnames=fieldnames)\n",
    "\n",
    "        if not file_exists:\n",
    "            writer.writeheader()  # Write header only once\n",
    "\n",
    "        writer.writerow(data)"
   ]
  },
  {
   "cell_type": "code",
   "execution_count": 8,
   "metadata": {
    "id": "t7prVmTohqES"
   },
   "outputs": [],
   "source": [
    "# Append to CSV if exists or write new one if doesn't - can run this every morning with a cron job\n",
    "write_to_csv(data_to_append)"
   ]
  },
  {
   "cell_type": "markdown",
   "metadata": {},
   "source": [
    "### Push to SQL Database"
   ]
  },
  {
   "cell_type": "code",
   "execution_count": 15,
   "metadata": {},
   "outputs": [],
   "source": [
    "# Separate date field into day, month, & year so it can be viewed together or just by month & day\n",
    "date = datetime.utcfromtimestamp(data_to_append['dt'])\n",
    "\n",
    "year = date.year\n",
    "month = date.month\n",
    "day = date.day"
   ]
  },
  {
   "cell_type": "code",
   "execution_count": 19,
   "metadata": {},
   "outputs": [
    {
     "data": {
      "text/plain": [
       "16.45"
      ]
     },
     "execution_count": 19,
     "metadata": {},
     "output_type": "execute_result"
    }
   ],
   "source": [
    "# Convert temp from K to C\n",
    "temp_C = round(data_to_append['temp'] - 273.15, 4)\n",
    "temp_C"
   ]
  },
  {
   "cell_type": "code",
   "execution_count": 33,
   "metadata": {},
   "outputs": [
    {
     "data": {
      "text/plain": [
       "'06:34:10'"
      ]
     },
     "execution_count": 33,
     "metadata": {},
     "output_type": "execute_result"
    }
   ],
   "source": [
    "# Convert sunrise to formatted time in PST, not GMT\n",
    "sunrise_gmt = datetime.utcfromtimestamp(data_to_append['sunrise'])\n",
    "sunrise_pst = (sunrise_gmt - timedelta(hours=8)).strftime(\"%H:%M:%S\")\n",
    "sunrise_pst"
   ]
  },
  {
   "cell_type": "code",
   "execution_count": 34,
   "metadata": {},
   "outputs": [
    {
     "data": {
      "text/plain": [
       "'17:31:45'"
      ]
     },
     "execution_count": 34,
     "metadata": {},
     "output_type": "execute_result"
    }
   ],
   "source": [
    "sunset_gmt = datetime.utcfromtimestamp(data_to_append['sunset'])\n",
    "sunset_pst = (sunset_gmt - timedelta(hours=8)).strftime(\"%H:%M:%S\")\n",
    "sunset_pst"
   ]
  },
  {
   "cell_type": "code",
   "execution_count": 43,
   "metadata": {},
   "outputs": [
    {
     "data": {
      "text/plain": [
       "1"
      ]
     },
     "execution_count": 43,
     "metadata": {},
     "output_type": "execute_result"
    }
   ],
   "source": [
    "# Define the INSERT statement.\n",
    "insert_stmt = \"\"\"\n",
    "    INSERT INTO DailyWeatherConditions (day, month, year, sunrise, sunset, humidity, uvi, wind_speed, temp)\n",
    "    VALUES (%s, %s, %s, %s, %s, %s, %s, %s, %s);\n",
    "    \"\"\"\n",
    "\n",
    "# Data to be inserted; for example, for March 14th, 2024\n",
    "data_sql = (day, month, year, sunrise_pst, sunset_pst, data_to_append['humidity'], \n",
    "            data_to_append['uvi'], data_to_append['wind_speed'], temp_C)\n",
    "    \n",
    "# Execute the SQL command\n",
    "cursor.execute(insert_stmt, data_sql)"
   ]
  },
  {
   "cell_type": "code",
   "execution_count": 50,
   "metadata": {},
   "outputs": [
    {
     "name": "stdout",
     "output_type": "stream",
     "text": [
      "   day  month  year         sunrise          sunset  humidity   uvi  \\\n",
      "0   13      2  2024 0 days 06:34:10 0 days 17:31:45        59  4.39   \n",
      "\n",
      "   wind_speed   temp  \n",
      "0        3.99  16.45  \n"
     ]
    }
   ],
   "source": [
    "# Check if inserted right\n",
    "print(pd.read_sql_query(\"\"\"SELECT * \n",
    "    FROM DailyWeatherConditions \n",
    "    ORDER BY year, month, day DESC\n",
    "    LIMIT 1;\"\"\", conn))"
   ]
  },
  {
   "cell_type": "markdown",
   "metadata": {
    "id": "AF8YDobAiFAy"
   },
   "source": [
    "## National Weather Service API - Daily Alerts"
   ]
  },
  {
   "cell_type": "markdown",
   "metadata": {},
   "source": [
    "### Connect to API"
   ]
  },
  {
   "cell_type": "code",
   "execution_count": 3,
   "metadata": {
    "colab": {
     "base_uri": "https://localhost:8080/"
    },
    "id": "8g2YouNyiITS",
    "outputId": "a38558b6-6d9c-42b7-9ada-78d325fb639b"
   },
   "outputs": [
    {
     "name": "stdout",
     "output_type": "stream",
     "text": [
      "OK\n"
     ]
    }
   ],
   "source": [
    "api_connector.set_user_agent(\"Application Name\", \"youremail@domain.com\")\n",
    "server_ping = api_connector.ping_server()\n",
    "\n",
    "# Always a good idea to check to make sure an error didn't occur.\n",
    "# There are times when a 400 or 500 error will occur.\n",
    "if server_ping.has_any_request_errors:\n",
    "    raise ConnectionError(server_ping['detail'])\n",
    "else:\n",
    "    print(server_ping.status)  # will print OK"
   ]
  },
  {
   "cell_type": "code",
   "execution_count": 12,
   "metadata": {
    "id": "qrKB-jH0iv7h"
   },
   "outputs": [],
   "source": [
    "api_connector.set_user_agent(\"NWSAPy\", \"your_email@email.com or website\")"
   ]
  },
  {
   "cell_type": "markdown",
   "metadata": {},
   "source": [
    "### Retrieve Alert from API"
   ]
  },
  {
   "cell_type": "code",
   "execution_count": null,
   "metadata": {},
   "outputs": [],
   "source": [
    "# For testing purposes only since San Diego does not always have an active alert\n",
    "# *** UNCOMMENT BELOW FOR TESTING IF NO ACTIVE ALERT FOR SAN DIEGO ***\n",
    "# CA_Alert = api_connector.get_alert_by_area('CA') # NWS Zone Code for all of California\n",
    "\n",
    "# For Final Project Implementation (CAZ050 is San Diego's code, but sometimes there might not be an active alert)\n",
    "CA_Alert = api_connector.get_alert_by_zone('CAZ107') # NWS Zone Code for San Diego (CAZ050)"
   ]
  },
  {
   "cell_type": "code",
   "execution_count": 54,
   "metadata": {},
   "outputs": [
    {
     "data": {
      "text/plain": [
       "{'@id': 'https://api.weather.gov/alerts/urn:oid:2.49.0.1.840.0.bb2c7bddc445f48dbaa603f113e7b8f1aa9f0ba5.001.1',\n",
       " '@type': 'wx:Alert',\n",
       " 'id': 'urn:oid:2.49.0.1.840.0.bb2c7bddc445f48dbaa603f113e7b8f1aa9f0ba5.001.1',\n",
       " 'areaDesc': 'Northern Trinity',\n",
       " 'geocode': {'SAME': ['006105'], 'UGC': ['CAZ107']},\n",
       " 'affectedZones': ['https://api.weather.gov/zones/forecast/CAZ107'],\n",
       " 'references': [{'@id': 'https://api.weather.gov/alerts/urn:oid:2.49.0.1.840.0.87aee5c9e6a975404ca25ce097257dc2718049bb.001.1',\n",
       "   'identifier': 'urn:oid:2.49.0.1.840.0.87aee5c9e6a975404ca25ce097257dc2718049bb.001.1',\n",
       "   'sender': 'w-nws.webmaster@noaa.gov',\n",
       "   'sent': '2024-02-13T06:01:00-08:00'}],\n",
       " 'sent': datetime.datetime(2024, 2, 13, 14, 48, tzinfo=datetime.timezone(datetime.timedelta(days=-1, seconds=57600))),\n",
       " 'effective': datetime.datetime(2024, 2, 13, 14, 48, tzinfo=datetime.timezone(datetime.timedelta(days=-1, seconds=57600))),\n",
       " 'onset': datetime.datetime(2024, 2, 14, 4, 0, tzinfo=datetime.timezone(datetime.timedelta(days=-1, seconds=57600))),\n",
       " 'expires': datetime.datetime(2024, 2, 13, 23, 0, tzinfo=datetime.timezone(datetime.timedelta(days=-1, seconds=57600))),\n",
       " 'ends': datetime.datetime(2024, 2, 15, 10, 0, tzinfo=datetime.timezone(datetime.timedelta(days=-1, seconds=57600))),\n",
       " 'status': 'Actual',\n",
       " 'messageType': 'Update',\n",
       " 'category': 'Met',\n",
       " 'severity': 'Moderate',\n",
       " 'certainty': 'Likely',\n",
       " 'urgency': 'Expected',\n",
       " 'event': 'Winter Weather Advisory',\n",
       " 'sender': 'w-nws.webmaster@noaa.gov',\n",
       " 'senderName': 'NWS Eureka CA',\n",
       " 'headline': 'Winter Weather Advisory issued February 13 at 2:48PM PST until February 15 at 10:00AM PST by NWS Eureka CA',\n",
       " 'description': '* WHAT...Snow expected for elevations above 4000 feet. Total snow\\naccumulations between 5 and 10 inches.\\n\\n* WHERE...Northern Trinity.\\n\\n* WHEN...From 4 AM Wednesday to 10 AM PST Thursday.\\n\\n* IMPACTS...Travel could be very difficult.\\n\\n* ADDITIONAL DETAILS...Most likely snowfall of 4 to 8 inches along\\nScott Mountain Pass.',\n",
       " 'instruction': 'Slow down and use caution while traveling. The latest road\\nconditions for the state you are calling from can be obtained by\\ncalling 5 1 1.',\n",
       " 'response': 'Execute',\n",
       " 'parameters': {'AWIPSidentifier': ['WSWEKA'],\n",
       "  'WMOidentifier': ['WWUS46 KEKA 132248'],\n",
       "  'NWSheadline': ['WINTER WEATHER ADVISORY REMAINS IN EFFECT FROM 4 AM WEDNESDAY TO 10 AM PST THURSDAY FOR ELEVATIONS ABOVE 4000 FEET'],\n",
       "  'BLOCKCHANNEL': ['EAS', 'NWEM', 'CMAS'],\n",
       "  'VTEC': ['/O.CON.KEKA.WW.Y.0006.240214T1200Z-240215T1800Z/'],\n",
       "  'eventEndingTime': ['2024-02-15T18:00:00+00:00'],\n",
       "  'expiredReferences': ['w-nws.webmaster@noaa.gov,urn:oid:2.49.0.1.840.0.107ebffecccc2f5ec96c446e0277234393bba227.001.1,2024-02-13T02:50:00-08:00']},\n",
       " 'points': None,\n",
       " 'polygon': None,\n",
       " 'sent_utc': datetime.datetime(2024, 2, 13, 22, 48, tzinfo=<UTC>),\n",
       " 'effective_utc': datetime.datetime(2024, 2, 13, 22, 48, tzinfo=<UTC>),\n",
       " 'onset_utc': datetime.datetime(2024, 2, 14, 12, 0, tzinfo=<UTC>),\n",
       " 'expires_utc': datetime.datetime(2024, 2, 14, 7, 0, tzinfo=<UTC>),\n",
       " 'ends_utc': datetime.datetime(2024, 2, 15, 18, 0, tzinfo=<UTC>),\n",
       " 'affected_zones': ['CAZ107'],\n",
       " 'area_desc': ['Northern Trinity'],\n",
       " 'message_type': 'Update',\n",
       " 'sender_name': 'NWS Eureka CA'}"
      ]
     },
     "execution_count": 54,
     "metadata": {},
     "output_type": "execute_result"
    }
   ],
   "source": [
    "df = CA_Alert.to_dict()[1] # Retrieve the latest alert\n",
    "df"
   ]
  },
  {
   "cell_type": "markdown",
   "metadata": {},
   "source": [
    "### Parse API pull into Python variables in accordance with SQL table schema in beginning of Notebook"
   ]
  },
  {
   "cell_type": "code",
   "execution_count": 81,
   "metadata": {},
   "outputs": [],
   "source": [
    "year_2 = df[\"sent\"].year\n",
    "month_2 = df[\"sent\"].month\n",
    "day_2 = df[\"sent\"].day\n",
    "affected_zones = str(df[\"affected_zones\"])\n",
    "areaDesc = str(df[\"areaDesc\"])\n",
    "description = str(df[\"description\"])\n",
    "effective_utc = df[\"effective_utc\"]\n",
    "ends_utc = df[\"ends_utc\"]\n",
    "headline = str(df[\"headline\"])\n",
    "severity = str(df[\"severity\"])"
   ]
  },
  {
   "cell_type": "markdown",
   "metadata": {},
   "source": [
    "### Push second API data to SQL Database"
   ]
  },
  {
   "cell_type": "code",
   "execution_count": 82,
   "metadata": {},
   "outputs": [
    {
     "data": {
      "text/plain": [
       "(13,\n",
       " 2,\n",
       " 2024,\n",
       " \"['CAZ107']\",\n",
       " 'Northern Trinity',\n",
       " '* WHAT...Snow expected for elevations above 4000 feet. Total snow\\naccumulations between 5 and 10 inches.\\n\\n* WHERE...Northern Trinity.\\n\\n* WHEN...From 4 AM Wednesday to 10 AM PST Thursday.\\n\\n* IMPACTS...Travel could be very difficult.\\n\\n* ADDITIONAL DETAILS...Most likely snowfall of 4 to 8 inches along\\nScott Mountain Pass.',\n",
       " datetime.datetime(2024, 2, 13, 22, 48, tzinfo=<UTC>),\n",
       " datetime.datetime(2024, 2, 15, 18, 0, tzinfo=<UTC>),\n",
       " 'Winter Weather Advisory issued February 13 at 2:48PM PST until February 15 at 10:00AM PST by NWS Eureka CA',\n",
       " 'Moderate')"
      ]
     },
     "execution_count": 82,
     "metadata": {},
     "output_type": "execute_result"
    }
   ],
   "source": [
    "# Define the INSERT statement.\n",
    "insert_stmt_2 = \"\"\"\n",
    "    INSERT INTO DailyWeatherAlerts (day_2, month_2, year_2, affected_zones, areaDesc, description, effective_utc, ends_utc, headline, severity)\n",
    "    VALUES (%s, %s, %s, %s, %s, %s, %s, %s, %s, %s);\n",
    "    \"\"\"\n",
    "\n",
    "# Data to be inserted\n",
    "data_sql_2 = (day_2, month_2, year_2, affected_zones, areaDesc, description, effective_utc, ends_utc, headline, severity)\n",
    "data_sql_2"
   ]
  },
  {
   "cell_type": "code",
   "execution_count": null,
   "metadata": {},
   "outputs": [],
   "source": [
    "# Execute the SQL command\n",
    "cursor.execute(insert_stmt_2, data_sql_2)"
   ]
  }
 ],
 "metadata": {
  "colab": {
   "provenance": []
  },
  "kernelspec": {
   "display_name": "Python 3 (ipykernel)",
   "language": "python",
   "name": "python3"
  },
  "language_info": {
   "codemirror_mode": {
    "name": "ipython",
    "version": 3
   },
   "file_extension": ".py",
   "mimetype": "text/x-python",
   "name": "python",
   "nbconvert_exporter": "python",
   "pygments_lexer": "ipython3",
   "version": "3.11.5"
  }
 },
 "nbformat": 4,
 "nbformat_minor": 4
}
